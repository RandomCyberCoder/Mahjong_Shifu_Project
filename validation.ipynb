{
 "cells": [
  {
   "cell_type": "code",
   "execution_count": 4,
   "id": "7d9b3e4d",
   "metadata": {},
   "outputs": [
    {
     "name": "stdout",
     "output_type": "stream",
     "text": [
      "Ultralytics 8.3.153 🚀 Python-3.12.6 torch-2.7.1 CPU (Apple M3 Max)\n",
      "Model summary (fused): 92 layers, 25,864,078 parameters, 0 gradients, 78.8 GFLOPs\n",
      "\u001b[34m\u001b[1mval: \u001b[0mFast image access ✅ (ping: 0.0±0.0 ms, read: 301.3±305.6 MB/s, size: 56.6 KB)\n",
      "\u001b[34m\u001b[1mval: \u001b[0mScanning /Users/justin.koida/Documents/GitHub/school/Mahjong_Shifu_Project/\u001b[0m\n",
      "                 Class     Images  Instances      Box(P          R      mAP50  m\n",
      "                   all         20        248      0.835      0.945      0.954      0.683\n",
      "              bamboo-1          2          2      0.845          1      0.995      0.898\n",
      "              bamboo-2          5          7      0.894          1      0.995      0.529\n",
      "              bamboo-3          6          8      0.883      0.946      0.982      0.804\n",
      "              bamboo-4          7          8       0.89      0.875      0.887      0.682\n",
      "              bamboo-5          6         10      0.921        0.8      0.831      0.577\n",
      "              bamboo-6          4          4      0.723          1      0.995      0.662\n",
      "              bamboo-7          5          7      0.699          1      0.964      0.842\n",
      "              bamboo-8          3          5      0.878          1      0.995      0.829\n",
      "              bamboo-9          4          7      0.908          1      0.995      0.862\n",
      "          bonus-autumn          1          1      0.755          1      0.995      0.199\n",
      "          bonus-spring          1          1      0.913          1      0.995      0.796\n",
      "          bonus-summer          3          3          1      0.592      0.749       0.65\n",
      "          characters-1         10         14      0.806      0.929      0.935      0.565\n",
      "          characters-2          3          4      0.698          1      0.995      0.873\n",
      "          characters-3          8          8      0.788      0.932      0.971      0.513\n",
      "          characters-4          5          6      0.772          1      0.995      0.685\n",
      "          characters-5          8         10      0.775        0.9      0.858      0.532\n",
      "          characters-6          4          4      0.722          1      0.995      0.766\n",
      "          characters-7          5          5      0.735          1      0.995       0.67\n",
      "          characters-8          5         10      0.902      0.918      0.986      0.614\n",
      "          characters-9          7         11      0.892      0.753      0.943      0.587\n",
      "                dots-1          3          4      0.852          1      0.995      0.699\n",
      "                dots-2          5          6      0.897          1      0.995      0.435\n",
      "                dots-3          7          9      0.919      0.889      0.951      0.707\n",
      "                dots-4          5          7      0.748          1      0.889      0.571\n",
      "                dots-5          2          2      0.752          1      0.995      0.822\n",
      "                dots-6          7         11       0.94          1      0.995      0.768\n",
      "                dots-7          7         10       0.98          1      0.995      0.755\n",
      "                dots-8          7          8      0.921          1      0.995       0.76\n",
      "                dots-9          6          6      0.887          1      0.995      0.837\n",
      "           honors-east          6         15      0.953          1      0.995      0.799\n",
      "          honors-green          5          5       0.88          1      0.995      0.552\n",
      "          honors-north          3          4      0.651       0.75      0.757      0.381\n",
      "            honors-red          4          7      0.851       0.82      0.762      0.461\n",
      "          honors-south          1          1      0.348          1      0.995      0.895\n",
      "           honors-west          4         10          1      0.855      0.951      0.802\n",
      "          honors-white          5          8      0.919          1      0.995      0.874\n",
      "Speed: 0.8ms preprocess, 363.7ms inference, 0.0ms loss, 0.6ms postprocess per image\n",
      "Results saved to \u001b[1m/Users/justin.koida/Documents/GitHub/school/Mahjong_Shifu_Project/runs/detect/val2\u001b[0m\n",
      "💡 Learn more at https://docs.ultralytics.com/modes/val\n"
     ]
    }
   ],
   "source": [
    "!yolo task=detect mode=val model=runs/detect/train3/weights/best.pt data=annotated/Version4_data/data.yaml split=test verbose = True"
   ]
  },
  {
   "cell_type": "code",
   "execution_count": 11,
   "id": "5356e4d2",
   "metadata": {},
   "outputs": [
    {
     "name": "stdout",
     "output_type": "stream",
     "text": [
      "Ultralytics 8.3.153 🚀 Python-3.12.6 torch-2.7.1 CPU (Apple M3 Max)\n",
      "Model summary (fused): 112 layers, 43,638,990 parameters, 0 gradients, 165.0 GFLOPs\n",
      "\n",
      "image 1/20 /Users/justin.koida/Documents/GitHub/school/Mahjong_Shifu_Project/annotated/Version4_data/test/images/384495523_3651010411810473_7029918205782586555_n_jpg.rf.d95ea1add07ee0e0e9e5a38aaf40c597.jpg: 640x640 1 bamboo-2, 1 bamboo-3, 1 bonus-summer, 1 characters-1, 1 characters-2, 2 characters-5s, 1 characters-7, 1 characters-8, 1 dots-6, 1 dots-8, 1 dots-9, 1 honors-south, 1 honors-white, 200.2ms\n",
      "image 2/20 /Users/justin.koida/Documents/GitHub/school/Mahjong_Shifu_Project/annotated/Version4_data/test/images/387324697_344171238009450_8375486251271208374_n_jpg.rf.2860fd84f38c572adc2a38f30937f516.jpg: 640x640 1 bamboo-1, 2 bamboo-2s, 1 bamboo-5, 3 bamboo-8s, 1 bamboo-9, 3 characters-1s, 2 characters-2s, 1 characters-3, 1 characters-4, 1 characters-5, 1 characters-6, 1 characters-9, 1 dots-2, 3 dots-3s, 1 dots-6, 3 dots-7s, 1 dots-9, 3 honors-whites, 186.2ms\n",
      "image 3/20 /Users/justin.koida/Documents/GitHub/school/Mahjong_Shifu_Project/annotated/Version4_data/test/images/387561687_358938869892132_7569997015932467004_n_jpg.rf.6b2143f231f3183d492faa8437e5f63a.jpg: 640x640 1 bamboo-1, 2 bamboo-2s, 2 bamboo-3s, 1 bamboo-4, 3 bamboo-5s, 3 bamboo-7s, 1 bamboo-8, 4 bamboo-9s, 4 characters-8s, 1 dots-1, 3 honors-easts, 1 honors-south, 2 honors-wests, 2 honors-whites, 183.2ms\n",
      "image 4/20 /Users/justin.koida/Documents/GitHub/school/Mahjong_Shifu_Project/annotated/Version4_data/test/images/421098485_1090317932392807_1057661036314487643_n_jpg.rf.0007a011f7d47d43a8cd7fe2358dff85.jpg: 640x640 1 bonus-autumn, 1 bonus-spring, 1 bonus-winter, 2 dots-2s, 1 dots-4, 1 dots-6, 1 dots-8, 2 dots-9s, 1 honors-green, 1 honors-north, 3 honors-reds, 2 honors-wests, 185.8ms\n",
      "image 5/20 /Users/justin.koida/Documents/GitHub/school/Mahjong_Shifu_Project/annotated/Version4_data/test/images/IMG_3271_jpeg.rf.7ec357169ee05c7ff7576eb3ebd4d65f.jpg: 640x640 1 bamboo-6, 1 dots-8, 185.6ms\n",
      "image 6/20 /Users/justin.koida/Documents/GitHub/school/Mahjong_Shifu_Project/annotated/Version4_data/test/images/IMG_3282_jpeg.rf.2be2f1de3f10a60deec5754375dfff14.jpg: 640x640 1 bamboo-1, 1 characters-1, 180.4ms\n",
      "image 7/20 /Users/justin.koida/Documents/GitHub/school/Mahjong_Shifu_Project/annotated/Version4_data/test/images/Screenshot-2024-09-23-at-4-14-37-PM_png.rf.cec31372d39cd1253427cd4a02f598f3.jpg: 640x640 1 bamboo-3, 1 bamboo-4, 1 bamboo-5, 1 bonus-bamboo, 1 bonus-spring, 1 bonus-summer, 2 characters-4s, 1 characters-5, 1 characters-6, 1 characters-7, 1 dots-3, 1 dots-4, 1 dots-5, 1 dots-7, 1 dots-8, 1 dots-9, 2 honors-reds, 180.9ms\n",
      "image 8/20 /Users/justin.koida/Documents/GitHub/school/Mahjong_Shifu_Project/annotated/Version4_data/test/images/Screenshot-2024-09-23-at-4-27-40-PM_png.rf.2a5dee17a15212fc096a84ca5996ccef.jpg: 640x640 3 bamboo-3s, 1 bamboo-5, 1 bamboo-6, 1 bamboo-7, 1 characters-5, 1 characters-6, 1 characters-7, 2 dots-1s, 1 dots-2, 1 dots-4, 1 dots-7, 1 dots-8, 1 dots-9, 182.2ms\n",
      "image 9/20 /Users/justin.koida/Documents/GitHub/school/Mahjong_Shifu_Project/annotated/Version4_data/test/images/Screenshot-2024-09-23-at-4-31-32-PM_png.rf.c638f3f89fdb3b32f8423385ef9a8d48.jpg: 640x640 1 bamboo-3, 1 bamboo-4, 1 characters-3, 1 characters-5, 1 dots-1, 1 dots-2, 1 dots-3, 4 dots-4s, 2 dots-6s, 1 dots-7, 1 honors-east, 1 honors-green, 1 honors-white, 185.1ms\n",
      "image 10/20 /Users/justin.koida/Documents/GitHub/school/Mahjong_Shifu_Project/annotated/Version4_data/test/images/Screenshot-2024-09-23-at-4-32-33-PM_png.rf.01bb18a0ce77ce05a62c9b2a3a36660f.jpg: 640x640 1 bamboo-6, 2 bamboo-7s, 1 characters-1, 1 characters-2, 1 characters-3, 1 characters-4, 1 dots-5, 1 dots-6, 1 dots-7, 4 honors-easts, 3 honors-wests, 200.0ms\n",
      "image 11/20 /Users/justin.koida/Documents/GitHub/school/Mahjong_Shifu_Project/annotated/Version4_data/test/images/hand_001_jpg.rf.cd71759e345c4e68bbfe115724dfed2e.jpg: 640x640 1 bamboo-7, 1 bamboo-8, 1 bamboo-9, 3 characters-9s, 1 dots-6, 1 dots-7, 1 dots-8, 2 honors-easts, 3 honors-wests, 183.3ms\n",
      "image 12/20 /Users/justin.koida/Documents/GitHub/school/Mahjong_Shifu_Project/annotated/Version4_data/test/images/hand_013_jpg.rf.35446c9b9a6ce9e570dd2ad585e3a5e4.jpg: 640x640 3 bamboo-5s, 3 characters-1s, 1 characters-3, 1 characters-4, 1 characters-5, 2 characters-8s, 3 honors-easts, 180.4ms\n",
      "image 13/20 /Users/justin.koida/Documents/GitHub/school/Mahjong_Shifu_Project/annotated/Version4_data/test/images/scene156051_png.rf.142751e47226750c95fa07b46488c77a.jpg: 640x640 1 bamboo-2, 1 bamboo-3, 1 bamboo-4, 2 characters-1s, 2 characters-3s, 1 characters-4, 1 characters-7, 1 characters-8, 1 characters-9, 1 dots-6, 1 dots-9, 1 honors-red, 1 honors-west, 183.3ms\n",
      "image 14/20 /Users/justin.koida/Documents/GitHub/school/Mahjong_Shifu_Project/annotated/Version4_data/test/images/scene156351_png.rf.a5570610ce1500ff40b1f0a7d1b54689.jpg: 640x640 2 bamboo-2s, 1 bamboo-4, 1 bamboo-7, 1 bamboo-9, 1 characters-2, 2 characters-3s, 2 characters-5s, 1 characters-6, 1 characters-8, 1 dots-2, 1 dots-4, 2 dots-8s, 1 dots-9, 2 honors-easts, 1 honors-north, 184.8ms\n",
      "image 15/20 /Users/justin.koida/Documents/GitHub/school/Mahjong_Shifu_Project/annotated/Version4_data/test/images/web_cam13_jpg.rf.bc37268fe38b8f4650d27db6c0f12108.jpg: 640x640 1 bamboo-6, 1 characters-1, 1 honors-north, 182.2ms\n",
      "image 16/20 /Users/justin.koida/Documents/GitHub/school/Mahjong_Shifu_Project/annotated/Version4_data/test/images/web_cam25_jpg.rf.4ae01d3bab80bb7549622516db8475a3.jpg: 640x640 1 bamboo-6, 2 honors-reds, 1 honors-white, 184.3ms\n",
      "image 17/20 /Users/justin.koida/Documents/GitHub/school/Mahjong_Shifu_Project/annotated/Version4_data/test/images/web_cam35_jpg.rf.882ff1b0af81a3d466f4900f1b26614c.jpg: 640x640 1 characters-5, 1 characters-7, 2 characters-9s, 184.4ms\n",
      "image 18/20 /Users/justin.koida/Documents/GitHub/school/Mahjong_Shifu_Project/annotated/Version4_data/test/images/web_cam78_jpg.rf.3bfe0f0ed315892efd52be7a2807f915.jpg: 640x640 1 bamboo-4, 1 characters-1, 1 characters-2, 1 characters-3, 2 characters-4s, 1 characters-7, 2 characters-9s, 1 dots-3, 2 honors-greens, 184.9ms\n",
      "image 19/20 /Users/justin.koida/Documents/GitHub/school/Mahjong_Shifu_Project/annotated/Version4_data/test/images/web_cam80_jpg.rf.74b948cec98d7db795381a833883f885.jpg: 640x640 2 bamboo-4s, 1 characters-1, 1 characters-3, 1 characters-9, 2 dots-3s, 2 honors-greens, 185.3ms\n",
      "image 20/20 /Users/justin.koida/Documents/GitHub/school/Mahjong_Shifu_Project/annotated/Version4_data/test/images/web_cam85_jpg.rf.09f6d320617d56d954bb88144c8bac64.jpg: 640x640 2 bamboo-4s, 1 characters-1, 1 characters-3, 1 characters-9, 1 dots-3, 1 honors-green, 184.9ms\n",
      "Speed: 0.7ms preprocess, 185.4ms inference, 0.7ms postprocess per image at shape (1, 3, 640, 640)\n",
      "Results saved to \u001b[1m/Users/justin.koida/Documents/GitHub/school/Mahjong_Shifu_Project/runs/detect/predict5\u001b[0m\n",
      "💡 Learn more at https://docs.ultralytics.com/modes/predict\n"
     ]
    }
   ],
   "source": [
    "!yolo task=detect mode=predict model=runs/detect/trainLarge/weights/best.pt source=annotated/Version4_data/test/images/ split=test verbose = True\n"
   ]
  },
  {
   "cell_type": "code",
   "execution_count": 8,
   "id": "1eee54fb",
   "metadata": {},
   "outputs": [
    {
     "name": "stdout",
     "output_type": "stream",
     "text": [
      "Ultralytics 8.3.153 🚀 Python-3.12.6 torch-2.7.1 CPU (Apple M3 Max)\n",
      "Model summary (fused): 112 layers, 43,638,990 parameters, 0 gradients, 165.0 GFLOPs\n",
      "\u001b[34m\u001b[1mval: \u001b[0mFast image access ✅ (ping: 0.0±0.0 ms, read: 1466.3±461.0 MB/s, size: 54.7 KB)\n",
      "\u001b[34m\u001b[1mval: \u001b[0mScanning /Users/justin.koida/Documents/GitHub/school/Mahjong_Shifu_Project/\u001b[0m\n",
      "                 Class     Images  Instances      Box(P          R      mAP50  m\n",
      "                   all         20        248      0.887       0.92      0.967      0.701\n",
      "              bamboo-1          2          2      0.685          1      0.995      0.598\n",
      "              bamboo-2          5          7      0.975          1      0.995      0.587\n",
      "              bamboo-3          6          8          1      0.951      0.995      0.766\n",
      "              bamboo-4          7          8      0.823      0.875      0.882       0.58\n",
      "              bamboo-5          6         10      0.857        0.8       0.92      0.653\n",
      "              bamboo-6          4          4      0.728          1      0.945      0.584\n",
      "              bamboo-7          5          7      0.705      0.857      0.855      0.705\n",
      "              bamboo-8          3          5       0.92          1      0.995      0.832\n",
      "              bamboo-9          4          7      0.991          1      0.995      0.858\n",
      "          bonus-autumn          1          1      0.823          1      0.995      0.697\n",
      "          bonus-spring          1          1      0.898          1      0.995      0.895\n",
      "          bonus-summer          3          3      0.875      0.667      0.863      0.721\n",
      "          characters-1         10         14      0.854      0.857      0.965      0.555\n",
      "          characters-2          3          4      0.863          1      0.995      0.859\n",
      "          characters-3          8          8      0.817          1      0.982      0.496\n",
      "          characters-4          5          6      0.914          1      0.995      0.713\n",
      "          characters-5          8         10      0.943        0.9      0.986      0.684\n",
      "          characters-6          4          4      0.853          1      0.995       0.74\n",
      "          characters-7          5          5          1      0.957      0.995      0.807\n",
      "          characters-8          5         10          1      0.919      0.995      0.644\n",
      "          characters-9          7         11      0.795      0.818      0.866       0.53\n",
      "                dots-1          3          4      0.908          1      0.995      0.772\n",
      "                dots-2          5          6      0.939          1      0.995      0.453\n",
      "                dots-3          7          9      0.903      0.889      0.968      0.774\n",
      "                dots-4          5          7      0.775      0.857      0.964      0.716\n",
      "                dots-5          2          2      0.832          1      0.995      0.846\n",
      "                dots-6          7         11          1      0.662      0.971      0.695\n",
      "                dots-7          7         10          1       0.78      0.957      0.731\n",
      "                dots-8          7          8          1      0.985      0.995      0.824\n",
      "                dots-9          6          6      0.939          1      0.995      0.838\n",
      "           honors-east          6         15      0.979          1      0.995      0.795\n",
      "          honors-green          5          5          1      0.973      0.995      0.699\n",
      "          honors-north          3          4      0.918        0.5      0.895      0.339\n",
      "            honors-red          4          7      0.867      0.935      0.906      0.398\n",
      "          honors-south          1          1      0.502          1      0.995      0.895\n",
      "           honors-west          4         10          1      0.871      0.972      0.781\n",
      "          honors-white          5          8      0.948          1      0.995       0.89\n",
      "Speed: 0.8ms preprocess, 573.8ms inference, 0.0ms loss, 0.6ms postprocess per image\n",
      "Results saved to \u001b[1m/Users/justin.koida/Documents/GitHub/school/Mahjong_Shifu_Project/runs/detect/val\u001b[0m\n",
      "💡 Learn more at https://docs.ultralytics.com/modes/val\n"
     ]
    }
   ],
   "source": [
    "!yolo task=detect mode=val model=runs/detect/trainLarge/weights/best.pt data=annotated/Version4_data/data.yaml split=test verbose = True\n"
   ]
  },
  {
   "cell_type": "code",
   "execution_count": null,
   "id": "b8459f60",
   "metadata": {},
   "outputs": [],
   "source": []
  },
  {
   "cell_type": "code",
   "execution_count": null,
   "id": "1b57766e",
   "metadata": {},
   "outputs": [],
   "source": []
  },
  {
   "cell_type": "code",
   "execution_count": null,
   "id": "70e8e862",
   "metadata": {},
   "outputs": [],
   "source": []
  },
  {
   "cell_type": "code",
   "execution_count": null,
   "id": "ec82e603",
   "metadata": {},
   "outputs": [],
   "source": []
  },
  {
   "cell_type": "code",
   "execution_count": null,
   "id": "58e16d11",
   "metadata": {},
   "outputs": [],
   "source": []
  }
 ],
 "metadata": {
  "kernelspec": {
   "display_name": "venv",
   "language": "python",
   "name": "python3"
  },
  "language_info": {
   "codemirror_mode": {
    "name": "ipython",
    "version": 3
   },
   "file_extension": ".py",
   "mimetype": "text/x-python",
   "name": "python",
   "nbconvert_exporter": "python",
   "pygments_lexer": "ipython3",
   "version": "3.12.6"
  }
 },
 "nbformat": 4,
 "nbformat_minor": 5
}
