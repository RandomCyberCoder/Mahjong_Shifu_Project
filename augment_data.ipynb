{
 "cells": [
  {
   "cell_type": "code",
   "execution_count": 33,
   "id": "0f99148f",
   "metadata": {},
   "outputs": [],
   "source": [
    "from PIL import Image, ImageFilter, ImageEnhance\n",
    "import glob\n",
    "import os"
   ]
  },
  {
   "cell_type": "code",
   "execution_count": 30,
   "id": "8a7a7e70",
   "metadata": {},
   "outputs": [
    {
     "data": {
      "text/plain": [
       "['additional_images\\\\img1.jpg',\n",
       " 'additional_images\\\\img10.jpg',\n",
       " 'additional_images\\\\img11.jpg',\n",
       " 'additional_images\\\\img12.jpg',\n",
       " 'additional_images\\\\img13.jpg',\n",
       " 'additional_images\\\\img14.jpg',\n",
       " 'additional_images\\\\img15.jpg',\n",
       " 'additional_images\\\\img16.jpg',\n",
       " 'additional_images\\\\img3.jpg',\n",
       " 'additional_images\\\\img5.jpg',\n",
       " 'additional_images\\\\img6.jpg']"
      ]
     },
     "execution_count": 30,
     "metadata": {},
     "output_type": "execute_result"
    }
   ],
   "source": [
    "files = glob.glob(\"additional_images/*\")\n",
    "files"
   ]
  },
  {
   "cell_type": "code",
   "execution_count": 31,
   "id": "012349a9",
   "metadata": {},
   "outputs": [],
   "source": [
    "for file in files:\n",
    "    image = Image.open(file)\n",
    "    aug_image = image.filter(ImageFilter.BLUR)\n",
    "    aug_image = ImageEnhance.Contrast(aug_image)\n",
    "    aug_image = aug_image.enhance(0.5)\n",
    "    aug_image.save(f\"unlabeled_data/aug_{os.path.basename(file)}\")\n",
    "    "
   ]
  }
 ],
 "metadata": {
  "kernelspec": {
   "display_name": ".venv",
   "language": "python",
   "name": "python3"
  },
  "language_info": {
   "codemirror_mode": {
    "name": "ipython",
    "version": 3
   },
   "file_extension": ".py",
   "mimetype": "text/x-python",
   "name": "python",
   "nbconvert_exporter": "python",
   "pygments_lexer": "ipython3",
   "version": "3.12.1"
  }
 },
 "nbformat": 4,
 "nbformat_minor": 5
}
