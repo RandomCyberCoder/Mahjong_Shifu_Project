{
 "cells": [
  {
   "cell_type": "code",
   "execution_count": null,
   "id": "bee81a7d",
   "metadata": {},
   "outputs": [],
   "source": [
    "import numpy as np\n",
    "import cv2 as cv\n",
    "from ultralytics import YOLO\n"
   ]
  },
  {
   "cell_type": "code",
   "execution_count": null,
   "id": "94632374",
   "metadata": {},
   "outputs": [],
   "source": [
    "from IPython import display\n",
    "from IPython.display import display, Image\n",
    "import glob"
   ]
  },
  {
   "cell_type": "code",
   "execution_count": null,
   "id": "16fa76bd",
   "metadata": {},
   "outputs": [],
   "source": [
    "import torch\n",
    "import torchvision\n",
    "print(torch.__version__)\n",
    "print(torchvision.__version__)\n"
   ]
  },
  {
   "cell_type": "code",
   "execution_count": null,
   "id": "ac56ecd5",
   "metadata": {},
   "outputs": [],
   "source": [
    "torch.cuda.is_available()"
   ]
  },
  {
   "cell_type": "code",
   "execution_count": null,
   "id": "f4e67052",
   "metadata": {},
   "outputs": [],
   "source": [
    "model = YOLO(\"yolov8m.pt\")\n",
    "model.info()"
   ]
  },
  {
   "cell_type": "code",
   "execution_count": null,
   "id": "df863ad8",
   "metadata": {},
   "outputs": [],
   "source": [
    "results = model.train(data=\"annotated/data_v2/data.yaml\", epochs=60, imgsz=640, batch=8)"
   ]
  },
  {
   "cell_type": "code",
   "execution_count": null,
   "id": "6ce436b8",
   "metadata": {},
   "outputs": [],
   "source": [
    "Image(filename=f'runs/detect/train/confusion_matrix.png', width=800)"
   ]
  },
  {
   "cell_type": "code",
   "execution_count": null,
   "id": "222b3d76",
   "metadata": {},
   "outputs": [],
   "source": [
    "Image(filename=f'runs/detect/train/results.png', width=800)"
   ]
  },
  {
   "cell_type": "code",
   "execution_count": null,
   "id": "7a6dbd10",
   "metadata": {},
   "outputs": [],
   "source": [
    "!yolo task=detect mode=val model=runs/detect/train/weights/best.pt data=annotated/data_v2/data.yaml"
   ]
  },
  {
   "cell_type": "markdown",
   "id": "ffe7c59b",
   "metadata": {},
   "source": [
    "# run predictions"
   ]
  },
  {
   "cell_type": "code",
   "execution_count": null,
   "id": "54c22b55",
   "metadata": {},
   "outputs": [],
   "source": [
    "!yolo task=detect mode=predict model=runs/detect/train/weights/best.pt source=unlabeled_data/ conf=0.6"
   ]
  },
  {
   "cell_type": "code",
   "execution_count": null,
   "id": "74756c77",
   "metadata": {},
   "outputs": [],
   "source": [
    "for image_path in glob.glob(f'runs/detect/predict3/*.jpg'):\n",
    "    print(image_path)\n",
    "    display(Image(filename=image_path, height=600))\n",
    "    print(\"\\n\")"
   ]
  },
  {
   "cell_type": "markdown",
   "id": "c3961259",
   "metadata": {},
   "source": [
    "# active learning"
   ]
  },
  {
   "cell_type": "code",
   "execution_count": null,
   "id": "215d38d0",
   "metadata": {},
   "outputs": [],
   "source": [
    "from PIL import Image, ImageFilter, ImageEnhance\n",
    "import matplotlib.pyplot as plt\n",
    "import matplotlib.image as image\n",
    "import ipywidgets as widgets\n",
    "from IPython.display import display, clear_output\n",
    "import glob\n",
    "import os\n",
    "import shutil"
   ]
  },
  {
   "cell_type": "code",
   "execution_count": null,
   "id": "7188f145",
   "metadata": {},
   "outputs": [],
   "source": [
    "MODEL_DIR = \"train\"\n",
    "DATA = \"active_learning/unlabeled_data/*.jpg\""
   ]
  },
  {
   "cell_type": "code",
   "execution_count": null,
   "id": "1795c9fe",
   "metadata": {},
   "outputs": [],
   "source": [
    "check_model = YOLO(f\"runs/detect/{MODEL_DIR}/weights/best.pt\")\n",
    "file_paths = glob.glob(DATA)"
   ]
  },
  {
   "cell_type": "code",
   "execution_count": null,
   "id": "cdc6e4f0",
   "metadata": {},
   "outputs": [],
   "source": [
    "file_paths"
   ]
  },
  {
   "cell_type": "code",
   "execution_count": null,
   "id": "1a0d7b02",
   "metadata": {},
   "outputs": [],
   "source": [
    "yes_button = widgets.Button(description=\"Yes (Annotate)\")\n",
    "no_button = widgets.Button(description=\"No (Skip)\")\n",
    "output = widgets.Output()\n",
    "selected_for_annotation = []\n",
    "image_index = 0"
   ]
  },
  {
   "cell_type": "code",
   "execution_count": null,
   "id": "e685badf",
   "metadata": {},
   "outputs": [],
   "source": [
    "def show_image(index):\n",
    "    base = os.path.basename(file_paths[index])\n",
    "    save_path = f\"active_learning/unlabeled_labeled/{base}\"\n",
    "    with output:\n",
    "        clear_output(wait=True)\n",
    "        result = check_model(file_paths[index], conf=0.7)\n",
    "        result[0].save(save_path)\n",
    "        img = image.imread(save_path)\n",
    "        plt.imshow(img)\n",
    "        plt.axis('off')\n",
    "        plt.title(f\"Image {index + 1} of {len(file_paths)}\")\n",
    "        plt.show()\n",
    "\n",
    "def on_yes_clicked(b):\n",
    "    global image_index\n",
    "    selected_for_annotation.append(file_paths[image_index])\n",
    "    advance()\n",
    "\n",
    "def on_no_clicked(b):\n",
    "    advance()\n",
    "\n",
    "def advance():\n",
    "    global image_index\n",
    "    image_index += 1\n",
    "    if image_index < len(file_paths):\n",
    "        show_image(image_index)\n",
    "    else:\n",
    "        with output:\n",
    "            clear_output()\n",
    "            print(\"All images reviewed.\")"
   ]
  },
  {
   "cell_type": "code",
   "execution_count": null,
   "id": "6a861891",
   "metadata": {},
   "outputs": [],
   "source": [
    "yes_button.on_click(on_yes_clicked)\n",
    "no_button.on_click(on_no_clicked)"
   ]
  },
  {
   "cell_type": "code",
   "execution_count": null,
   "id": "77f14dc1",
   "metadata": {},
   "outputs": [],
   "source": [
    "display(widgets.HBox([yes_button, no_button]), output)\n",
    "show_image(image_index)"
   ]
  },
  {
   "cell_type": "code",
   "execution_count": null,
   "id": "4eb75d8b",
   "metadata": {},
   "outputs": [],
   "source": [
    "selected_for_annotation"
   ]
  },
  {
   "cell_type": "code",
   "execution_count": null,
   "id": "844cf597",
   "metadata": {},
   "outputs": [],
   "source": [
    "\"\"\"\n",
    "unlabeled_to_labeled is the directory used to store the current images we want to label\n",
    "unlabeled_archive is the directory used to store all previous images that required labeling\n",
    "unlabeled_to_labeled directory content should be deleted on every run of this active learning\n",
    "\"\"\"\n",
    "for file in selected_for_annotation:\n",
    "    shutil.copy(file, 'active_learning/unlabeled_to_label')\n",
    "    shutil.copy(file, 'active_learning/unlabeled_archive')\n",
    "    os.remove(file)"
   ]
  },
  {
   "cell_type": "markdown",
   "id": "e00d811a",
   "metadata": {},
   "source": [
    "# run model on new dataset"
   ]
  },
  {
   "cell_type": "code",
   "execution_count": null,
   "id": "4e713636",
   "metadata": {},
   "outputs": [],
   "source": [
    "FILE_WEIGHTS = \"runs/detect/train/weights/best.pt\""
   ]
  },
  {
   "cell_type": "code",
   "execution_count": null,
   "id": "83b9842e",
   "metadata": {},
   "outputs": [],
   "source": [
    "retrain_model = YOLO(FILE_WEIGHTS)"
   ]
  },
  {
   "cell_type": "code",
   "execution_count": null,
   "id": "87c9742a",
   "metadata": {},
   "outputs": [],
   "source": [
    "results = retrain_model.train(data=\"annotated/data_v3/data.yaml\", epochs=60, imgsz=640, batch=8)"
   ]
  },
  {
   "cell_type": "code",
   "execution_count": null,
   "id": "87c66481",
   "metadata": {},
   "outputs": [],
   "source": [
    "!yolo task=detect mode=predict model=runs/detect/train2/weights/best.pt source=active_learning/unlabeled_data/ conf=0.8"
   ]
  },
  {
   "cell_type": "code",
   "execution_count": null,
   "id": "8a14a745",
   "metadata": {},
   "outputs": [],
   "source": [
    "for image_path in glob.glob(f'runs/detect/predict4/*.jpg'):\n",
    "    print(image_path)\n",
    "    display(Image(filename=image_path, height=600))\n",
    "    print(\"\\n\")"
   ]
  },
  {
   "cell_type": "markdown",
   "id": "4fc0c35d",
   "metadata": {},
   "source": [
    "# run model live"
   ]
  },
  {
   "cell_type": "code",
   "execution_count": null,
   "id": "7d590d52",
   "metadata": {},
   "outputs": [],
   "source": [
    "trained_mahjong = YOLO('runs/detect/train2/weights/best.pt')"
   ]
  },
  {
   "cell_type": "code",
   "execution_count": null,
   "id": "5886793d",
   "metadata": {},
   "outputs": [],
   "source": [
    "results=trained_mahjong(source=0,show=True, conf=0.6)"
   ]
  },
  {
   "cell_type": "markdown",
   "id": "680a153b",
   "metadata": {},
   "source": [
    "# old code"
   ]
  },
  {
   "cell_type": "markdown",
   "id": "2fcf6ec8",
   "metadata": {},
   "source": [
    "from \n",
    "https://docs.opencv.org/4.x/dd/d43/tutorial_py_video_display.html"
   ]
  },
  {
   "cell_type": "code",
   "execution_count": null,
   "id": "e2733ab3",
   "metadata": {},
   "outputs": [],
   "source": [
    "cap = cv.VideoCapture(0)\n",
    "if not cap.isOpened():\n",
    "    print(\"Cannot open camera\")\n",
    "    exit()"
   ]
  },
  {
   "cell_type": "code",
   "execution_count": null,
   "id": "b9d5c19e",
   "metadata": {},
   "outputs": [],
   "source": [
    "while True:\n",
    "    # Capture frame-by-frame\n",
    "    ret, frame = cap.read()\n",
    " \n",
    "    # if frame is read correctly ret is True\n",
    "    if not ret:\n",
    "        print(\"Can't receive frame (stream end?). Exiting ...\")\n",
    "        break\n",
    "    # Our operations on the frame come here\n",
    "    gray = cv.cvtColor(frame, cv.COLOR_BGR2GRAY)\n",
    "    # Display the resulting frame\n",
    "    cv.imshow('frame', gray)\n",
    "    if cv.waitKey(1) == ord('q'):\n",
    "        break\n",
    " \n",
    "# When everything done, release the capture\n",
    "cap.release()\n",
    "cv.destroyAllWindows()"
   ]
  }
 ],
 "metadata": {
  "kernelspec": {
   "display_name": "Python 3",
   "language": "python",
   "name": "python3"
  },
  "language_info": {
   "codemirror_mode": {
    "name": "ipython",
    "version": 3
   },
   "file_extension": ".py",
   "mimetype": "text/x-python",
   "name": "python",
   "nbconvert_exporter": "python",
   "pygments_lexer": "ipython3",
   "version": "3.12.1"
  }
 },
 "nbformat": 4,
 "nbformat_minor": 5
}
