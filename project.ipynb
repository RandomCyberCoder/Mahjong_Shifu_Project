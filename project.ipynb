{
 "cells": [
  {
   "cell_type": "code",
   "execution_count": null,
   "id": "bee81a7d",
   "metadata": {},
   "outputs": [],
   "source": [
    "import numpy as np\n",
    "import cv2 as cv\n",
    "from ultralytics import YOLO\n"
   ]
  },
  {
   "cell_type": "code",
   "execution_count": null,
   "id": "94632374",
   "metadata": {},
   "outputs": [],
   "source": [
    "from IPython import display\n",
    "from IPython.display import display, Image\n",
    "import glob"
   ]
  },
  {
   "cell_type": "code",
   "execution_count": null,
   "id": "16fa76bd",
   "metadata": {},
   "outputs": [],
   "source": [
    "import torch\n",
    "import torchvision\n",
    "print(torch.__version__)\n",
    "print(torchvision.__version__)\n"
   ]
  },
  {
   "cell_type": "code",
   "execution_count": null,
   "id": "ac56ecd5",
   "metadata": {},
   "outputs": [],
   "source": [
    "torch.cuda.is_available()"
   ]
  },
  {
   "cell_type": "code",
   "execution_count": null,
   "id": "f4e67052",
   "metadata": {},
   "outputs": [],
   "source": [
    "model = YOLO(\"yolov8s.pt\")\n",
    "model.info()"
   ]
  },
  {
   "cell_type": "code",
   "execution_count": null,
   "id": "df863ad8",
   "metadata": {},
   "outputs": [],
   "source": [
    "results = model.train(data=\"annotated/data.yaml\", epochs=60, imgsz=640)"
   ]
  },
  {
   "cell_type": "code",
   "execution_count": null,
   "id": "6ce436b8",
   "metadata": {},
   "outputs": [],
   "source": [
    "Image(filename=f'runs/detect/train6/confusion_matrix.png', width=800)"
   ]
  },
  {
   "cell_type": "code",
   "execution_count": null,
   "id": "222b3d76",
   "metadata": {},
   "outputs": [],
   "source": [
    "Image(filename=f'runs/detect/train6/results.png', width=800)"
   ]
  },
  {
   "cell_type": "code",
   "execution_count": null,
   "id": "7a6dbd10",
   "metadata": {},
   "outputs": [],
   "source": [
    "!yolo task=detect mode=val model=runs/detect/train6/weights/best.pt data=annotated/data.yaml"
   ]
  },
  {
   "cell_type": "code",
   "execution_count": null,
   "id": "54c22b55",
   "metadata": {},
   "outputs": [],
   "source": [
    "!yolo task=detect mode=predict model=runs/detect/train6/weights/best.pt data=annotated/data.yaml source=annotated/test/images/"
   ]
  },
  {
   "cell_type": "code",
   "execution_count": null,
   "id": "74756c77",
   "metadata": {},
   "outputs": [],
   "source": [
    "for image_path in glob.glob(f'runs/detect/predict/*.jpg'):\n",
    "    display(Image(filename=image_path, height=600))\n",
    "    print(\"\\n\")"
   ]
  },
  {
   "cell_type": "code",
   "execution_count": null,
   "id": "7d590d52",
   "metadata": {},
   "outputs": [],
   "source": [
    "trained_mahjong = YOLO('runs/detect/train6/weights/best.pt')"
   ]
  },
  {
   "cell_type": "code",
   "execution_count": null,
   "id": "5886793d",
   "metadata": {},
   "outputs": [],
   "source": [
    "results=model(source=0,show=True, conf=0.6)"
   ]
  },
  {
   "cell_type": "markdown",
   "id": "2fcf6ec8",
   "metadata": {},
   "source": [
    "from \n",
    "https://docs.opencv.org/4.x/dd/d43/tutorial_py_video_display.html"
   ]
  },
  {
   "cell_type": "code",
   "execution_count": null,
   "id": "e2733ab3",
   "metadata": {},
   "outputs": [],
   "source": [
    "cap = cv.VideoCapture(0)\n",
    "if not cap.isOpened():\n",
    "    print(\"Cannot open camera\")\n",
    "    exit()"
   ]
  },
  {
   "cell_type": "code",
   "execution_count": null,
   "id": "b9d5c19e",
   "metadata": {},
   "outputs": [],
   "source": [
    "while True:\n",
    "    # Capture frame-by-frame\n",
    "    ret, frame = cap.read()\n",
    " \n",
    "    # if frame is read correctly ret is True\n",
    "    if not ret:\n",
    "        print(\"Can't receive frame (stream end?). Exiting ...\")\n",
    "        break\n",
    "    # Our operations on the frame come here\n",
    "    gray = cv.cvtColor(frame, cv.COLOR_BGR2GRAY)\n",
    "    # Display the resulting frame\n",
    "    cv.imshow('frame', gray)\n",
    "    if cv.waitKey(1) == ord('q'):\n",
    "        break\n",
    " \n",
    "# When everything done, release the capture\n",
    "cap.release()\n",
    "cv.destroyAllWindows()"
   ]
  }
 ],
 "metadata": {
  "kernelspec": {
   "display_name": "Python 3",
   "language": "python",
   "name": "python3"
  },
  "language_info": {
   "codemirror_mode": {
    "name": "ipython",
    "version": 3
   },
   "file_extension": ".py",
   "mimetype": "text/x-python",
   "name": "python",
   "nbconvert_exporter": "python",
   "pygments_lexer": "ipython3",
   "version": "3.12.1"
  }
 },
 "nbformat": 4,
 "nbformat_minor": 5
}
